{
 "cells": [
  {
   "cell_type": "markdown",
   "metadata": {},
   "source": [
    "### Урок 2. Загрузка данных и построение обучающей выборки. Анализ и предобработка датасета. Балансировка классов\n",
    "\n",
    "Дьяченко Даниил @daniilstv\n",
    "\n",
    "Предсказание ухода игрока из проекта. https://geekbrains.ru/lessons/62132/homework"
   ]
  },
  {
   "cell_type": "markdown",
   "metadata": {},
   "source": [
    "#### Д/З\n",
    "#### 1. Напишите функцию, которая возвращает сумму двух вещественных аргументов a и b, а к ней декоратор, который делает так, чтобы возвращаемое значение функцией было по модулю 5.\n"
   ]
  },
  {
   "cell_type": "code",
   "execution_count": 75,
   "metadata": {},
   "outputs": [],
   "source": [
    "import time\n",
    "from datetime import datetime, timedelta\n",
    "\n",
    "def abs5(func):\n",
    "    def wrapper(*args, **kwargs):\n",
    "        start = time.time()\n",
    "        print('Транслированы аргументы args',args)\n",
    "#         print('kwargs',kwargs)\n",
    "        return_value = func(*args, **kwargs)\n",
    "        print('Результат исходной функции сложения', return_value)\n",
    "        abs5 = return_value % 5\n",
    "        end = time.time()\n",
    "        print('Результат декоратора - сложение по модулю |5|: ', abs5)\n",
    "        print('Время выполнения: {} секунды'.format(round(end-start, 4)))\n",
    "        \n",
    "        return abs5 % 5\n",
    "    return wrapper\n"
   ]
  },
  {
   "cell_type": "code",
   "execution_count": 76,
   "metadata": {},
   "outputs": [],
   "source": [
    "def rd(x,y=0):\n",
    "    ''' A classical mathematical rounding by Voznica '''\n",
    "    m = int('1'+'0'*y) # multiplier - how many positions to the right\n",
    "    q = x*m # shift to the right by multiplier\n",
    "    c = int(q) # new number\n",
    "    i = int( (q-c)*10 ) # indicator number on the right\n",
    "    if i >= 5:\n",
    "        c += 1\n",
    "    return c/m\n",
    "\n",
    "@abs5\n",
    "def sum_ab(a, b):\n",
    "    try:\n",
    "        #a, b = int(a), int(b)\n",
    "        a, b = int(rd(a,y=0)), int(rd(b,y=0))\n",
    "        #time.sleep(2)\n",
    "    except:\n",
    "        raise print('Недопустимое значение аргументов')    \n",
    "    return a+b"
   ]
  },
  {
   "cell_type": "code",
   "execution_count": 77,
   "metadata": {
    "scrolled": true
   },
   "outputs": [
    {
     "name": "stdout",
     "output_type": "stream",
     "text": [
      "Транслированы аргументы args (2.49, 5.1)\n",
      "Результат исходной функции сложения 7\n",
      "Результат декоратора - сложение по модулю |5|:  2\n",
      "Время выполнения: 0.0002 секунды\n"
     ]
    },
    {
     "data": {
      "text/plain": [
       "2"
      ]
     },
     "execution_count": 77,
     "metadata": {},
     "output_type": "execute_result"
    }
   ],
   "source": [
    "sum_ab(2.49,5.1)"
   ]
  },
  {
   "cell_type": "code",
   "execution_count": null,
   "metadata": {},
   "outputs": [],
   "source": []
  },
  {
   "cell_type": "markdown",
   "metadata": {},
   "source": [
    "#### 2. Попробуйте описать своими словами основные отличия SMOTE от ADASYN, ознакомившись с документацией к ним."
   ]
  },
  {
   "cell_type": "markdown",
   "metadata": {},
   "source": [
    "Для балансировки методом оверсемплинга SMOTE создаёт новые признаки минорного класса используя алгоритм К-ближайших.\n",
    "\n",
    "ADASYN модифицированная версия SMOTE. В при создании новых признаков используется рэндомайзер, что создаёт более естественный характер выборки."
   ]
  },
  {
   "cell_type": "code",
   "execution_count": null,
   "metadata": {},
   "outputs": [],
   "source": []
  }
 ],
 "metadata": {
  "kernelspec": {
   "display_name": "Python 3",
   "language": "python",
   "name": "python3"
  },
  "language_info": {
   "codemirror_mode": {
    "name": "ipython",
    "version": 3
   },
   "file_extension": ".py",
   "mimetype": "text/x-python",
   "name": "python",
   "nbconvert_exporter": "python",
   "pygments_lexer": "ipython3",
   "version": "3.7.4"
  }
 },
 "nbformat": 4,
 "nbformat_minor": 2
}
